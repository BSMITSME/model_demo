{
 "cells": [
  {
   "cell_type": "code",
   "execution_count": 3,
   "metadata": {},
   "outputs": [
    {
     "name": "stderr",
     "output_type": "stream",
     "text": [
      "/root/anaconda3/envs/awsec2/lib/python3.9/site-packages/tqdm/auto.py:21: TqdmWarning: IProgress not found. Please update jupyter and ipywidgets. See https://ipywidgets.readthedocs.io/en/stable/user_install.html\n",
      "  from .autonotebook import tqdm as notebook_tqdm\n"
     ]
    }
   ],
   "source": [
    "from EasyOCR.easyocr import easyocr\n",
    "from glob import glob\n",
    "import cv2\n",
    "from PIL import Image, ImageDraw, ImageFont\n",
    "import numpy as np\n",
    "import json"
   ]
  },
  {
   "cell_type": "code",
   "execution_count": 41,
   "metadata": {},
   "outputs": [
    {
     "name": "stderr",
     "output_type": "stream",
     "text": [
      "Could not find image processor class in the image processor config or the model config. Loading based on pattern matching with the model's feature extractor configuration.\n"
     ]
    }
   ],
   "source": [
    "r = easyocr.Reader(lang_list=['ko', 'en'], gpu=True)#, recog_network='trocr')"
   ]
  },
  {
   "cell_type": "code",
   "execution_count": 19,
   "metadata": {},
   "outputs": [
    {
     "name": "stdout",
     "output_type": "stream",
     "text": [
      "Requirement already satisfied: gdown in /root/anaconda3/envs/awsec2/lib/python3.9/site-packages (4.7.1)\n",
      "Requirement already satisfied: filelock in /root/anaconda3/envs/awsec2/lib/python3.9/site-packages (from gdown) (3.12.2)\n",
      "Requirement already satisfied: requests[socks] in /root/anaconda3/envs/awsec2/lib/python3.9/site-packages (from gdown) (2.31.0)\n",
      "Requirement already satisfied: six in /root/anaconda3/envs/awsec2/lib/python3.9/site-packages (from gdown) (1.16.0)\n",
      "Requirement already satisfied: tqdm in /root/anaconda3/envs/awsec2/lib/python3.9/site-packages (from gdown) (4.66.1)\n",
      "Requirement already satisfied: beautifulsoup4 in /root/anaconda3/envs/awsec2/lib/python3.9/site-packages (from gdown) (4.12.2)\n",
      "Requirement already satisfied: soupsieve>1.2 in /root/anaconda3/envs/awsec2/lib/python3.9/site-packages (from beautifulsoup4->gdown) (2.4.1)\n",
      "Requirement already satisfied: charset-normalizer<4,>=2 in /root/anaconda3/envs/awsec2/lib/python3.9/site-packages (from requests[socks]->gdown) (3.2.0)\n",
      "Requirement already satisfied: idna<4,>=2.5 in /root/anaconda3/envs/awsec2/lib/python3.9/site-packages (from requests[socks]->gdown) (3.4)\n",
      "Requirement already satisfied: urllib3<3,>=1.21.1 in /root/anaconda3/envs/awsec2/lib/python3.9/site-packages (from requests[socks]->gdown) (2.0.4)\n",
      "Requirement already satisfied: certifi>=2017.4.17 in /root/anaconda3/envs/awsec2/lib/python3.9/site-packages (from requests[socks]->gdown) (2023.7.22)\n",
      "Requirement already satisfied: PySocks!=1.5.7,>=1.5.6 in /root/anaconda3/envs/awsec2/lib/python3.9/site-packages (from requests[socks]->gdown) (1.7.1)\n",
      "\u001b[33mWARNING: Running pip as the 'root' user can result in broken permissions and conflicting behaviour with the system package manager. It is recommended to use a virtual environment instead: https://pip.pypa.io/warnings/venv\u001b[0m\u001b[33m\n",
      "\u001b[0m"
     ]
    }
   ],
   "source": [
    "!pip install gdown"
   ]
  },
  {
   "cell_type": "code",
   "execution_count": 20,
   "metadata": {},
   "outputs": [
    {
     "name": "stdout",
     "output_type": "stream",
     "text": [
      "Downloading...\n",
      "From: https://fontmeme.com/fonts/download/243163/nanum-gothic.zip\n",
      "To: /data/SKT_FLY_AI_3/ec2_server_test/nanum-gothic.zip\n",
      "100%|██████████████████████████████████████| 6.74M/6.74M [00:01<00:00, 5.71MB/s]\n"
     ]
    }
   ],
   "source": [
    "!gdown https://fontmeme.com/fonts/download/243163/nanum-gothic.zip"
   ]
  },
  {
   "cell_type": "code",
   "execution_count": 21,
   "metadata": {},
   "outputs": [
    {
     "name": "stdout",
     "output_type": "stream",
     "text": [
      "Archive:  nanum-gothic.zip\n",
      "  inflating: OFL.txt                 \n",
      "  inflating: NanumGothic-Regular.ttf  \n",
      "  inflating: NanumGothic-Bold.ttf    \n",
      "  inflating: NanumGothic-ExtraBold.ttf  \n"
     ]
    }
   ],
   "source": [
    "!unzip -o nanum-gothic.zip"
   ]
  },
  {
   "cell_type": "code",
   "execution_count": 65,
   "metadata": {},
   "outputs": [],
   "source": [
    "def draw_boxes_with_pillow_text(image, detections):\n",
    "    img_y_max, img_x_max = image.shape[0], image.shape[1]\n",
    "    def normal(i):\n",
    "        return_value = 0\n",
    "        if normal.counter:\n",
    "            return_value = int(i*img_x_max)\n",
    "        else:\n",
    "            return_value = int (i*img_y_max)\n",
    "        normal.counter = not normal.counter\n",
    "        return return_value\n",
    "    normal.counter = True\n",
    "    image_clone = image.copy()\n",
    "    for detection in detections:\n",
    "        if type(detection) == str:\n",
    "            data = json.loads(detection)\n",
    "            points = [list(map(normal, i)) for i in data['boxes']]\n",
    "            back_color = data['background_color']\n",
    "            text_color = tuple(data['text_color'])\n",
    "            text = data['text']\n",
    "        else:\n",
    "            points = detection[0]\n",
    "            back_color = 0xFFFFFF\n",
    "            text_color = 0x000000\n",
    "            text = detection[1]\n",
    "        font_size = 20    \n",
    "        print (points, text)\n",
    "        # 상자를 위한 좌표 추출\n",
    "        rect = cv2.boundingRect(np.array(points, dtype=np.int32))\n",
    "        (x, y, w, h) = rect\n",
    "        #color = tuple(map(int, image_clone[y, x, :3]))\n",
    "        image_clone = cv2.rectangle(img = image_clone, pt1 = (x, y), pt2 = (x+w, y+h), color = back_color, thickness = -1)\n",
    "        # # 텍스트 그리기 (Pillow)\n",
    "        # pil_img = Image.fromarray(cv2.cvtColor(image_clone, cv2.COLOR_BGR2RGB))\n",
    "        # draw = ImageDraw.Draw(pil_img)\n",
    "        # font_path = \"/usr/share/fonts/truetype/nanum/NanumGothic.ttf\"  # Linux 예시 경로\n",
    "        # font = ImageFont.truetype(font_path, font_size)\n",
    "        # print (text_color)\n",
    "        # 텍스트 그리기 (Pillow)\n",
    "        pil_img = Image.fromarray(cv2.cvtColor(image_clone, cv2.COLOR_BGR2RGB))\n",
    "        draw = ImageDraw.Draw(pil_img)\n",
    "        font_path = \"/usr/share/fonts/truetype/nanum/NanumGothic.ttf\"  # Linux 예시 경로\n",
    "        \n",
    "        # 초기 폰트 크기\n",
    "        font_size = 20  \n",
    "        font = ImageFont.truetype(font_path, font_size)\n",
    "        text_width, text_height = draw.textsize(text, font=font)\n",
    "\n",
    "        # 폰트 크기 조절: bounding box의 크기에 맞게 텍스트 크기를 조절\n",
    "        while text_width > w or text_height > h:\n",
    "            font_size -= 1  # 폰트 크기 감소\n",
    "            font = ImageFont.truetype(font_path, font_size)\n",
    "            text_width, text_height = draw.textsize(text, font=font)\n",
    "            if font_size <= 10:  # 최소 폰트 크기 설정\n",
    "                break\n",
    "\n",
    "        # 텍스트의 시작 위치 계산\n",
    "        text_start_x = x + (w - text_width) / 2  \n",
    "        text_start_y = y + (h - text_height) / 2  \n",
    "\n",
    "        draw.text((text_start_x, text_start_y), text, font=font, fill=text_color[:3])\n",
    "\n",
    "        text_width, text_height = draw.textsize(text, font=font)\n",
    "        #draw.text((x + w/2., y + h/2.), text, font=font, fill=text_color[:3], align='center')\n",
    "\n",
    "        # 이미지를 다시 OpenCV 형태로 변환\n",
    "        image_clone[:,:,:3] = cv2.cvtColor(np.array(pil_img), cv2.COLOR_RGB2BGR)\n",
    "            #image_clone[:, :,3] = 1\n",
    "    # 결과 이미지 출력\n",
    "    return image_clone"
   ]
  },
  {
   "cell_type": "code",
   "execution_count": 67,
   "metadata": {},
   "outputs": [
    {
     "name": "stdout",
     "output_type": "stream",
     "text": [
      "Total Detection 걸린 시간 0.4665820598602295\n"
     ]
    },
    {
     "name": "stderr",
     "output_type": "stream",
     "text": [
      "/root/anaconda3/envs/awsec2/lib/python3.9/site-packages/transformers/generation/utils.py:1254: UserWarning: Using the model-agnostic default `max_length` (=20) to control thegeneration length. We recommend setting `max_new_tokens` to control the maximum length of the generation.\n",
      "  warnings.warn(\n"
     ]
    },
    {
     "name": "stdout",
     "output_type": "stream",
     "text": [
      "Total Recognize 걸린 시간 1.0469329357147217\n",
      "['{\"boxes\": [[0.11475409836065574, 0.07890070921985816], [0.2693208430913349, 0.07890070921985816], [0.2693208430913349, 0.11790780141843972], [0.11475409836065574, 0.11790780141843972]], \"text\": \"MeetUS 번역\", \"confident\": 0.9, \"background_color\": [217, 202, 183, 127], \"text_color\": [61, 53, 52, 255]}', '{\"boxes\": [[0.117096018735363, 0.12411347517730496], [0.15768930523028885, 0.12411347517730496], [0.15768930523028885, 0.1524822695035461], [0.117096018735363, 0.1524822695035461]], \"text\": \"요 5\", \"confident\": 0.9, \"background_color\": [220, 203, 184, 127], \"text_color\": [159, 144, 130, 255]}', '{\"boxes\": [[0.20921155347384857, 0.20921985815602837], [0.27946916471506633, 0.20921985815602837], [0.27946916471506633, 0.2375886524822695], [0.20921155347384857, 0.2375886524822695]], \"text\": \"ERROR\", \"confident\": 0.9, \"background_color\": [59, 226, 243, 127], \"text_color\": [24, 96, 104, 255]}', '{\"boxes\": [[0.2068696330991413, 0.26861702127659576], [0.6893052302888368, 0.26861702127659576], [0.6893052302888368, 0.3076241134751773], [0.2068696330991413, 0.3076241134751773]], \"text\": \"Message: respect: l2, version: 3)\", \"confident\": 0.9, \"background_color\": [56, 231, 249, 127], \"text_color\": [26, 107, 120, 255]}', '{\"boxes\": [[0.20843091334894615, 0.300531914893617], [1.0, 0.300531914893617], [1.0, 0.3377659574468085], [0.20843091334894615, 0.3377659574468085]], \"text\": \"Details: theart API is used by members of a consumer\", \"confident\": 0.9, \"background_color\": [56, 231, 249, 127], \"text_color\": [26, 109, 122, 255]}', '{\"boxes\": [[0.2068696330991413, 0.3351063829787234], [0.6690085870413739, 0.3351063829787234], [0.6690085870413739, 0.3696808510638298], [0.2068696330991413, 0.3696808510638298]], \"text\": \"this case, an error occurred white trying to send\", \"confident\": 0.9, \"background_color\": [56, 231, 248, 127], \"text_color\": [25, 106, 118, 255]}', '{\"boxes\": [[0.6736924277907884, 0.3448581560283688], [0.6861826697892272, 0.3448581560283688], [0.6861826697892272, 0.3625886524822695], [0.6736924277907884, 0.3625886524822695]], \"text\": \"a\", \"confident\": 0.9, \"background_color\": [63, 223, 237, 127], \"text_color\": [25, 108, 123, 255]}', '{\"boxes\": [[0.20765027322404372, 0.40602836879432624], [0.2888368462138954, 0.40602836879432624], [0.2888368462138954, 0.43439716312056736], [0.20765027322404372, 0.43439716312056736]], \"text\": \"전체보기\", \"confident\": 0.9, \"background_color\": [59, 229, 246, 127], \"text_color\": [31, 122, 133, 255]}', '{\"boxes\": [[0.10772833723653395, 0.425531914893617], [0.19359875097580015, 0.425531914893617], [0.19359875097580015, 0.4521276595744681], [0.10772833723653395, 0.4521276595744681]], \"text\": \"오후 6:28\", \"confident\": 0.9, \"background_color\": [218, 202, 184, 127], \"text_color\": [127, 114, 102, 255]}', '{\"boxes\": [[0.20843091334894615, 0.5292553191489362], [1.0, 0.5292553191489362], [1.0, 0.5647163120567376], [0.20843091334894615, 0.5647163120567376]], \"text\": \"Kafkals에서 나타난 위의 오류와 경고는 kafka 컨슈머\", \"confident\": 0.9, \"background_color\": [57, 230, 248, 127], \"text_color\": [25, 103, 116, 255]}', '{\"boxes\": [[0.20843091334894615, 0.5611702127659575], [0.9921935987509758, 0.5611702127659575], [0.9921935987509758, 0.5975177304964538], [0.20843091334894615, 0.5975177304964538]], \"text\": \"미션의 수 변경 또는 다른 구성원의 연결 끊김과 같은 여러 이벤트로 인해 자동\", \"confident\": 0.9, \"background_color\": [57, 231, 249, 127], \"text_color\": [26, 105, 116, 255]}', '{\"boxes\": [[0.209992193598751, 0.5930851063829787], [0.8719750195160031, 0.5930851063829787], [0.8719750195160031, 0.6285460992907801], [0.209992193598751, 0.6285460992907801]], \"text\": \"이 너무 자주 발생하면 그 이유를 파악하고 해결하는 것이 중요합니다.\", \"confident\": 0.9, \"background_color\": [57, 230, 248, 127], \"text_color\": [25, 103, 116, 255]}', '{\"boxes\": [[0.2068696330991413, 0.6551418439716312], [0.9156908665105387, 0.6551418439716312], [0.9156908665105387, 0.6923758865248227], [0.2068696330991413, 0.6923758865248227]], \"text\": \"다음은 리밸런싱 문제를 해결하기 위한 몇 가지 일반적인 접근 방법입니다\", \"confident\": 0.9, \"background_color\": [56, 230, 248, 127], \"text_color\": [26, 102, 114, 255]}', '{\"boxes\": [[0.20843091334894615, 0.7207446808510638], [0.5175644028103045, 0.7207446808510638], [0.5175644028103045, 0.7562056737588653], [0.20843091334894615, 0.7562056737588653]], \"text\": \"세션 및 하트비트 타임아웃 조정:\", \"confident\": 0.9, \"background_color\": [57, 230, 248, 127], \"text_color\": [24, 103, 116, 255]}', '{\"boxes\": [[0.2068696330991413, 0.7828014184397163], [0.9859484777517564, 0.7828014184397163], [0.9859484777517564, 0.8200354609929078], [0.2068696330991413, 0.8200354609929078]], \"text\": \"Kafka 컨슈머 구성에는 season.timeout.hearterval\", \"confident\": 0.9, \"background_color\": [60, 231, 247, 127], \"text_color\": [57, 128, 121, 255]}', '{\"boxes\": [[0.2068696330991413, 0.8164893617021277], [0.9250585480093677, 0.8164893617021277], [0.9250585480093677, 0.8519503546099291], [0.2068696330991413, 0.8519503546099291]], \"text\": \"session.t.ms는 컨슈머가 브로커에게 살아 있음을 알리\", \"confident\": 0.9, \"background_color\": [59, 230, 247, 127], \"text_color\": [36, 111, 117, 255]}', '{\"boxes\": [[0.20608899297423888, 0.848404255319149], [0.9203747072599532, 0.848404255319149], [0.9203747072599532, 0.8847517730496454], [0.20608899297423888, 0.8847517730496454]], \"text\": \"heartinterval.ms는 하트비트를 결정합니다.\", \"confident\": 0.9, \"background_color\": [60, 231, 247, 127], \"text_color\": [42, 112, 115, 255]}', '{\"boxes\": [[0.20843091334894615, 0.8803191489361702], [0.9984387197501952, 0.8803191489361702], [0.9984387197501952, 0.9157801418439716], [0.20843091334894615, 0.9157801418439716]], \"text\": \"이러한 값을 조정하여 컨슈머가 더 자주 하트비트를 전송하도록 하면\", \"confident\": 0.9, \"background_color\": [57, 230, 247, 127], \"text_color\": [24, 98, 111, 255]}', '{\"boxes\": [[0.209992193598751, 0.9122340425531915], [0.4020296643247463, 0.9122340425531915], [0.4020296643247463, 0.9476950354609929], [0.209992193598751, 0.9476950354609929]], \"text\": \"네트워크 문제 확인:\", \"confident\": 0.9, \"background_color\": [57, 230, 248, 127], \"text_color\": [23, 102, 111, 255]}', '{\"boxes\": [[0.209992193598751, 0.9778368794326241], [0.297423887587822, 0.9778368794326241], [0.297423887587822, 1.0], [0.209992193598751, 1.0]], \"text\": \"컨슈머아\", \"confident\": 0.9, \"background_color\": [59, 229, 246, 127], \"text_color\": [27, 111, 124, 255]}']\n",
      "[[147, 89], [345, 89], [345, 133], [147, 133]] MeetUS 번역\n",
      "[[150, 140], [202, 140], [202, 172], [150, 172]] 요 5\n",
      "[[268, 236], [357, 236], [357, 268], [268, 268]] ERROR\n",
      "[[265, 303], [883, 303], [883, 347], [265, 347]] Message: respect: l2, version: 3)\n",
      "[[267, 339], [1281, 339], [1281, 380], [267, 380]] Details: theart API is used by members of a consumer\n",
      "[[265, 378], [857, 378], [857, 417], [265, 417]] this case, an error occurred white trying to send\n",
      "[[863, 389], [879, 389], [879, 409], [863, 409]] a\n",
      "[[266, 458], [370, 458], [370, 490], [266, 490]] 전체보기\n",
      "[[138, 480], [248, 480], [248, 510], [138, 510]] 오후 6:28\n",
      "[[267, 597], [1281, 597], [1281, 637], [267, 637]] Kafkals에서 나타난 위의 오류와 경고는 kafka 컨슈머\n",
      "[[267, 633], [1271, 633], [1271, 673], [267, 673]] 미션의 수 변경 또는 다른 구성원의 연결 끊김과 같은 여러 이벤트로 인해 자동\n",
      "[[269, 669], [1117, 669], [1117, 709], [269, 709]] 이 너무 자주 발생하면 그 이유를 파악하고 해결하는 것이 중요합니다.\n",
      "[[265, 739], [1173, 739], [1173, 781], [265, 781]] 다음은 리밸런싱 문제를 해결하기 위한 몇 가지 일반적인 접근 방법입니다\n",
      "[[267, 813], [663, 813], [663, 853], [267, 853]] 세션 및 하트비트 타임아웃 조정:\n",
      "[[265, 883], [1263, 883], [1263, 925], [265, 925]] Kafka 컨슈머 구성에는 season.timeout.hearterval\n",
      "[[265, 921], [1185, 921], [1185, 961], [265, 961]] session.t.ms는 컨슈머가 브로커에게 살아 있음을 알리\n",
      "[[264, 957], [1179, 957], [1179, 998], [264, 998]] heartinterval.ms는 하트비트를 결정합니다.\n",
      "[[267, 993], [1279, 993], [1279, 1033], [267, 1033]] 이러한 값을 조정하여 컨슈머가 더 자주 하트비트를 전송하도록 하면\n",
      "[[269, 1029], [515, 1029], [515, 1069], [269, 1069]] 네트워크 문제 확인:\n",
      "[[269, 1103], [381, 1103], [381, 1128], [269, 1128]] 컨슈머아\n"
     ]
    },
    {
     "name": "stderr",
     "output_type": "stream",
     "text": [
      "/tmp/ipykernel_856741/320622864.py:46: DeprecationWarning: textsize is deprecated and will be removed in Pillow 10 (2023-07-01). Use textbbox or textlength instead.\n",
      "  text_width, text_height = draw.textsize(text, font=font)\n",
      "/tmp/ipykernel_856741/320622864.py:62: DeprecationWarning: textsize is deprecated and will be removed in Pillow 10 (2023-07-01). Use textbbox or textlength instead.\n",
      "  text_width, text_height = draw.textsize(text, font=font)\n",
      "/tmp/ipykernel_856741/320622864.py:46: DeprecationWarning: textsize is deprecated and will be removed in Pillow 10 (2023-07-01). Use textbbox or textlength instead.\n",
      "  text_width, text_height = draw.textsize(text, font=font)\n",
      "/tmp/ipykernel_856741/320622864.py:62: DeprecationWarning: textsize is deprecated and will be removed in Pillow 10 (2023-07-01). Use textbbox or textlength instead.\n",
      "  text_width, text_height = draw.textsize(text, font=font)\n",
      "/tmp/ipykernel_856741/320622864.py:46: DeprecationWarning: textsize is deprecated and will be removed in Pillow 10 (2023-07-01). Use textbbox or textlength instead.\n",
      "  text_width, text_height = draw.textsize(text, font=font)\n",
      "/tmp/ipykernel_856741/320622864.py:62: DeprecationWarning: textsize is deprecated and will be removed in Pillow 10 (2023-07-01). Use textbbox or textlength instead.\n",
      "  text_width, text_height = draw.textsize(text, font=font)\n",
      "/tmp/ipykernel_856741/320622864.py:46: DeprecationWarning: textsize is deprecated and will be removed in Pillow 10 (2023-07-01). Use textbbox or textlength instead.\n",
      "  text_width, text_height = draw.textsize(text, font=font)\n",
      "/tmp/ipykernel_856741/320622864.py:62: DeprecationWarning: textsize is deprecated and will be removed in Pillow 10 (2023-07-01). Use textbbox or textlength instead.\n",
      "  text_width, text_height = draw.textsize(text, font=font)\n",
      "/tmp/ipykernel_856741/320622864.py:46: DeprecationWarning: textsize is deprecated and will be removed in Pillow 10 (2023-07-01). Use textbbox or textlength instead.\n",
      "  text_width, text_height = draw.textsize(text, font=font)\n",
      "/tmp/ipykernel_856741/320622864.py:62: DeprecationWarning: textsize is deprecated and will be removed in Pillow 10 (2023-07-01). Use textbbox or textlength instead.\n",
      "  text_width, text_height = draw.textsize(text, font=font)\n",
      "/tmp/ipykernel_856741/320622864.py:46: DeprecationWarning: textsize is deprecated and will be removed in Pillow 10 (2023-07-01). Use textbbox or textlength instead.\n",
      "  text_width, text_height = draw.textsize(text, font=font)\n",
      "/tmp/ipykernel_856741/320622864.py:62: DeprecationWarning: textsize is deprecated and will be removed in Pillow 10 (2023-07-01). Use textbbox or textlength instead.\n",
      "  text_width, text_height = draw.textsize(text, font=font)\n",
      "/tmp/ipykernel_856741/320622864.py:46: DeprecationWarning: textsize is deprecated and will be removed in Pillow 10 (2023-07-01). Use textbbox or textlength instead.\n",
      "  text_width, text_height = draw.textsize(text, font=font)\n",
      "/tmp/ipykernel_856741/320622864.py:62: DeprecationWarning: textsize is deprecated and will be removed in Pillow 10 (2023-07-01). Use textbbox or textlength instead.\n",
      "  text_width, text_height = draw.textsize(text, font=font)\n",
      "/tmp/ipykernel_856741/320622864.py:46: DeprecationWarning: textsize is deprecated and will be removed in Pillow 10 (2023-07-01). Use textbbox or textlength instead.\n",
      "  text_width, text_height = draw.textsize(text, font=font)\n",
      "/tmp/ipykernel_856741/320622864.py:62: DeprecationWarning: textsize is deprecated and will be removed in Pillow 10 (2023-07-01). Use textbbox or textlength instead.\n",
      "  text_width, text_height = draw.textsize(text, font=font)\n",
      "/tmp/ipykernel_856741/320622864.py:46: DeprecationWarning: textsize is deprecated and will be removed in Pillow 10 (2023-07-01). Use textbbox or textlength instead.\n",
      "  text_width, text_height = draw.textsize(text, font=font)\n",
      "/tmp/ipykernel_856741/320622864.py:62: DeprecationWarning: textsize is deprecated and will be removed in Pillow 10 (2023-07-01). Use textbbox or textlength instead.\n",
      "  text_width, text_height = draw.textsize(text, font=font)\n",
      "/tmp/ipykernel_856741/320622864.py:46: DeprecationWarning: textsize is deprecated and will be removed in Pillow 10 (2023-07-01). Use textbbox or textlength instead.\n",
      "  text_width, text_height = draw.textsize(text, font=font)\n",
      "/tmp/ipykernel_856741/320622864.py:62: DeprecationWarning: textsize is deprecated and will be removed in Pillow 10 (2023-07-01). Use textbbox or textlength instead.\n",
      "  text_width, text_height = draw.textsize(text, font=font)\n",
      "/tmp/ipykernel_856741/320622864.py:46: DeprecationWarning: textsize is deprecated and will be removed in Pillow 10 (2023-07-01). Use textbbox or textlength instead.\n",
      "  text_width, text_height = draw.textsize(text, font=font)\n",
      "/tmp/ipykernel_856741/320622864.py:62: DeprecationWarning: textsize is deprecated and will be removed in Pillow 10 (2023-07-01). Use textbbox or textlength instead.\n",
      "  text_width, text_height = draw.textsize(text, font=font)\n",
      "/tmp/ipykernel_856741/320622864.py:46: DeprecationWarning: textsize is deprecated and will be removed in Pillow 10 (2023-07-01). Use textbbox or textlength instead.\n",
      "  text_width, text_height = draw.textsize(text, font=font)\n",
      "/tmp/ipykernel_856741/320622864.py:62: DeprecationWarning: textsize is deprecated and will be removed in Pillow 10 (2023-07-01). Use textbbox or textlength instead.\n",
      "  text_width, text_height = draw.textsize(text, font=font)\n",
      "/tmp/ipykernel_856741/320622864.py:46: DeprecationWarning: textsize is deprecated and will be removed in Pillow 10 (2023-07-01). Use textbbox or textlength instead.\n",
      "  text_width, text_height = draw.textsize(text, font=font)\n",
      "/tmp/ipykernel_856741/320622864.py:62: DeprecationWarning: textsize is deprecated and will be removed in Pillow 10 (2023-07-01). Use textbbox or textlength instead.\n",
      "  text_width, text_height = draw.textsize(text, font=font)\n",
      "/tmp/ipykernel_856741/320622864.py:46: DeprecationWarning: textsize is deprecated and will be removed in Pillow 10 (2023-07-01). Use textbbox or textlength instead.\n",
      "  text_width, text_height = draw.textsize(text, font=font)\n",
      "/tmp/ipykernel_856741/320622864.py:62: DeprecationWarning: textsize is deprecated and will be removed in Pillow 10 (2023-07-01). Use textbbox or textlength instead.\n",
      "  text_width, text_height = draw.textsize(text, font=font)\n",
      "/tmp/ipykernel_856741/320622864.py:46: DeprecationWarning: textsize is deprecated and will be removed in Pillow 10 (2023-07-01). Use textbbox or textlength instead.\n",
      "  text_width, text_height = draw.textsize(text, font=font)\n",
      "/tmp/ipykernel_856741/320622864.py:62: DeprecationWarning: textsize is deprecated and will be removed in Pillow 10 (2023-07-01). Use textbbox or textlength instead.\n",
      "  text_width, text_height = draw.textsize(text, font=font)\n",
      "/tmp/ipykernel_856741/320622864.py:46: DeprecationWarning: textsize is deprecated and will be removed in Pillow 10 (2023-07-01). Use textbbox or textlength instead.\n",
      "  text_width, text_height = draw.textsize(text, font=font)\n",
      "/tmp/ipykernel_856741/320622864.py:62: DeprecationWarning: textsize is deprecated and will be removed in Pillow 10 (2023-07-01). Use textbbox or textlength instead.\n",
      "  text_width, text_height = draw.textsize(text, font=font)\n",
      "/tmp/ipykernel_856741/320622864.py:46: DeprecationWarning: textsize is deprecated and will be removed in Pillow 10 (2023-07-01). Use textbbox or textlength instead.\n",
      "  text_width, text_height = draw.textsize(text, font=font)\n",
      "/tmp/ipykernel_856741/320622864.py:62: DeprecationWarning: textsize is deprecated and will be removed in Pillow 10 (2023-07-01). Use textbbox or textlength instead.\n",
      "  text_width, text_height = draw.textsize(text, font=font)\n",
      "/tmp/ipykernel_856741/320622864.py:46: DeprecationWarning: textsize is deprecated and will be removed in Pillow 10 (2023-07-01). Use textbbox or textlength instead.\n",
      "  text_width, text_height = draw.textsize(text, font=font)\n",
      "/tmp/ipykernel_856741/320622864.py:62: DeprecationWarning: textsize is deprecated and will be removed in Pillow 10 (2023-07-01). Use textbbox or textlength instead.\n",
      "  text_width, text_height = draw.textsize(text, font=font)\n",
      "/tmp/ipykernel_856741/320622864.py:46: DeprecationWarning: textsize is deprecated and will be removed in Pillow 10 (2023-07-01). Use textbbox or textlength instead.\n",
      "  text_width, text_height = draw.textsize(text, font=font)\n",
      "/tmp/ipykernel_856741/320622864.py:62: DeprecationWarning: textsize is deprecated and will be removed in Pillow 10 (2023-07-01). Use textbbox or textlength instead.\n",
      "  text_width, text_height = draw.textsize(text, font=font)\n",
      "/tmp/ipykernel_856741/320622864.py:46: DeprecationWarning: textsize is deprecated and will be removed in Pillow 10 (2023-07-01). Use textbbox or textlength instead.\n",
      "  text_width, text_height = draw.textsize(text, font=font)\n",
      "/tmp/ipykernel_856741/320622864.py:62: DeprecationWarning: textsize is deprecated and will be removed in Pillow 10 (2023-07-01). Use textbbox or textlength instead.\n",
      "  text_width, text_height = draw.textsize(text, font=font)\n"
     ]
    },
    {
     "data": {
      "text/plain": [
       "True"
      ]
     },
     "execution_count": 67,
     "metadata": {},
     "output_type": "execute_result"
    }
   ],
   "source": [
    "src = cv2.imread('test_kakao.jpg')\n",
    "result = r.readtext(image = src,batch_size=10, min_size=5, output_format='json_specific_and_relative_pos')\n",
    "print (result)\n",
    "img = draw_boxes_with_pillow_text(src, result)\n",
    "cv2.imwrite('img.jpg', img)"
   ]
  },
  {
   "cell_type": "code",
   "execution_count": null,
   "metadata": {},
   "outputs": [],
   "source": []
  },
  {
   "cell_type": "code",
   "execution_count": null,
   "metadata": {},
   "outputs": [],
   "source": []
  },
  {
   "cell_type": "code",
   "execution_count": null,
   "metadata": {},
   "outputs": [],
   "source": []
  }
 ],
 "metadata": {
  "kernelspec": {
   "display_name": "awsec2",
   "language": "python",
   "name": "python3"
  },
  "language_info": {
   "codemirror_mode": {
    "name": "ipython",
    "version": 3
   },
   "file_extension": ".py",
   "mimetype": "text/x-python",
   "name": "python",
   "nbconvert_exporter": "python",
   "pygments_lexer": "ipython3",
   "version": "3.9.17"
  },
  "orig_nbformat": 4
 },
 "nbformat": 4,
 "nbformat_minor": 2
}
